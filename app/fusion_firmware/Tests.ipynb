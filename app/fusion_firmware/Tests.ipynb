{
 "cells": [
  {
   "cell_type": "code",
   "execution_count": 9,
   "id": "c95383c5-7a7b-4542-bbca-f0a825c8b946",
   "metadata": {},
   "outputs": [],
   "source": [
    "import sys\n",
    "sys.path.append(\"../..\")\n",
    "import numpy as np\n",
    "import matplotlib.pyplot as plt\n",
    "from pyfusion import Fusion, AnalogTwo\n",
    "from scipy.signal import welch\n",
    "%matplotlib qt"
   ]
  },
  {
   "cell_type": "code",
   "execution_count": 2,
   "id": "81adcb4d-9392-4862-8cd9-5dee2df9e6fe",
   "metadata": {},
   "outputs": [
    {
     "ename": "NameError",
     "evalue": "name 'serial' is not defined",
     "output_type": "error",
     "traceback": [
      "\u001b[0;31m---------------------------------------------------------------------------\u001b[0m",
      "\u001b[0;31mNameError\u001b[0m                                 Traceback (most recent call last)",
      "Cell \u001b[0;32mIn[2], line 1\u001b[0m\n\u001b[0;32m----> 1\u001b[0m \u001b[38;5;28;01mdef\u001b[39;00m \u001b[38;5;21mload_bitstream_to_flash\u001b[39m(cmd_if:\u001b[43mserial\u001b[49m\u001b[38;5;241m.\u001b[39mSerial, data_if:serial\u001b[38;5;241m.\u001b[39mSerial, path:\u001b[38;5;28mstr\u001b[39m, partition_index\u001b[38;5;241m=\u001b[39m\u001b[38;5;241m0\u001b[39m):\n\u001b[1;32m      2\u001b[0m     \u001b[38;5;28mprint\u001b[39m(\u001b[38;5;124mf\u001b[39m\u001b[38;5;124m\"\u001b[39m\u001b[38;5;124mCMD if = \u001b[39m\u001b[38;5;132;01m{\u001b[39;00mcmd_if\u001b[38;5;241m.\u001b[39mport\u001b[38;5;132;01m}\u001b[39;00m\u001b[38;5;124m  DATA if = \u001b[39m\u001b[38;5;132;01m{\u001b[39;00mdata_if\u001b[38;5;241m.\u001b[39mport\u001b[38;5;132;01m}\u001b[39;00m\u001b[38;5;124m\"\u001b[39m)\n\u001b[1;32m      3\u001b[0m     \u001b[38;5;28;01mwith\u001b[39;00m \u001b[38;5;28mopen\u001b[39m(path, \u001b[38;5;124m'\u001b[39m\u001b[38;5;124mrb\u001b[39m\u001b[38;5;124m'\u001b[39m) \u001b[38;5;28;01mas\u001b[39;00m bs:\n",
      "\u001b[0;31mNameError\u001b[0m: name 'serial' is not defined"
     ]
    }
   ],
   "source": [
    "def load_bitstream_to_flash(cmd_if:serial.Serial, data_if:serial.Serial, path:str, partition_index=0):\n",
    "    print(f\"CMD if = {cmd_if.port}  DATA if = {data_if.port}\")\n",
    "    with open(path, 'rb') as bs:\n",
    "        data=bs.read()#[26:]\n",
    "        bs_size=len(data)\n",
    "        cmd = bytearray(5)\n",
    "        print(f\"Writing bitstream to flash, size={bs_size}\")\n",
    "        cmd[0]=4\n",
    "        cmd[1]=0\n",
    "        cmd[2]=0\n",
    "        cmd[3]=0\n",
    "        cmd[4]=partition_index&255\n",
    "        print(cmd)\n",
    "        cmd_if.write(cmd)\n",
    "        data_if.write(data)\n",
    "        remaining = int(1024*1024/8 - bs_size)\n",
    "        print(f\"Stuff with {remaining} x 0xff\")\n",
    "        data_if.write(bytearray([255]* remaining ))"
   ]
  },
  {
   "cell_type": "code",
   "execution_count": 3,
   "id": "c417ce9e-34ef-4c71-9a9b-bfb2c57cb28b",
   "metadata": {},
   "outputs": [
    {
     "name": "stdout",
     "output_type": "stream",
     "text": [
      "CMD if = /dev/ttyACM2  DATA if = /dev/ttyACM3\n",
      "Loading bitstream, size=348667\n",
      "bytearray(b'\\x01\\x00\\x05Q\\xfb')\n"
     ]
    }
   ],
   "source": [
    "analog_two = AnalogTwo(bitstream_path='../../rtl/top/analog_two/build/top.bit')\n",
    "analog_two.open()"
   ]
  },
  {
   "cell_type": "code",
   "execution_count": 32,
   "id": "b14972af-417c-4e99-aa38-a528e432c779",
   "metadata": {},
   "outputs": [],
   "source": [
    "analog_two.get_samples(count=20000)\n",
    "v=analog_two.get_samples(count=20000000)"
   ]
  },
  {
   "cell_type": "code",
   "execution_count": 4,
   "id": "949fcafb-b486-4e59-ac6b-1aa21055aa09",
   "metadata": {},
   "outputs": [
    {
     "data": {
      "text/plain": [
       "[array([-3,  0,  1, ...,  0, -4,  3], dtype=int16),\n",
       " array([-3,  0,  1, ...,  0, -4,  3], dtype=int16),\n",
       " array([ -8,  -7,  -2, ...,  -6,  -3, -10], dtype=int16),\n",
       " array([ -8,  -7,  -2, ...,  -6,  -3, -10], dtype=int16)]"
      ]
     },
     "execution_count": 4,
     "metadata": {},
     "output_type": "execute_result"
    }
   ],
   "source": [
    "v"
   ]
  },
  {
   "cell_type": "code",
   "execution_count": 61,
   "id": "74f6281e-cc9e-409e-b680-7bc2c289b78b",
   "metadata": {},
   "outputs": [],
   "source": [
    "analog_two.data_if.flush()\n",
    "analog_two.data_if.read(2**20)\n",
    "v=analog_two.data_if.read(2**20)"
   ]
  },
  {
   "cell_type": "code",
   "execution_count": 62,
   "id": "dcc82bb6-0b79-4948-8b6c-b0d35510e5b2",
   "metadata": {
    "collapsed": true,
    "jupyter": {
     "outputs_hidden": true
    }
   },
   "outputs": [
    {
     "data": {
      "text/plain": [
       "['0xfc',\n",
       " '0xff',\n",
       " '0xfc',\n",
       " '0xff',\n",
       " '0xf0',\n",
       " '0xf',\n",
       " '0x8b',\n",
       " '0xf8',\n",
       " '0xfc',\n",
       " '0xff',\n",
       " '0xfc',\n",
       " '0xff',\n",
       " '0xf7',\n",
       " '0xff',\n",
       " '0xf7',\n",
       " '0xff',\n",
       " '0xf0',\n",
       " '0xf',\n",
       " '0x8c',\n",
       " '0xf8',\n",
       " '0x1',\n",
       " '0x0',\n",
       " '0x1',\n",
       " '0x0',\n",
       " '0xff',\n",
       " '0xff',\n",
       " '0xff',\n",
       " '0xff',\n",
       " '0xf0',\n",
       " '0xf',\n",
       " '0x8d',\n",
       " '0xf8',\n",
       " '0xff',\n",
       " '0xff',\n",
       " '0xff',\n",
       " '0xff',\n",
       " '0xf6',\n",
       " '0xff',\n",
       " '0xf6',\n",
       " '0xff',\n",
       " '0xf0',\n",
       " '0xf',\n",
       " '0x8e',\n",
       " '0xf8',\n",
       " '0xff',\n",
       " '0xff',\n",
       " '0xff',\n",
       " '0xff',\n",
       " '0xf9',\n",
       " '0xff',\n",
       " '0xf9',\n",
       " '0xff',\n",
       " '0xf0',\n",
       " '0xf',\n",
       " '0x8f',\n",
       " '0xf8',\n",
       " '0x3',\n",
       " '0x0',\n",
       " '0x3',\n",
       " '0x0',\n",
       " '0xfd',\n",
       " '0xff',\n",
       " '0xfd',\n",
       " '0xff',\n",
       " '0xf0',\n",
       " '0xf',\n",
       " '0x90',\n",
       " '0xf8',\n",
       " '0xfe',\n",
       " '0xff',\n",
       " '0xfe',\n",
       " '0xff',\n",
       " '0xf6',\n",
       " '0xff',\n",
       " '0xf6',\n",
       " '0xff',\n",
       " '0xf0',\n",
       " '0xf',\n",
       " '0x91',\n",
       " '0xf8',\n",
       " '0x0',\n",
       " '0x0',\n",
       " '0x0',\n",
       " '0x0',\n",
       " '0xfe',\n",
       " '0xff',\n",
       " '0xfe',\n",
       " '0xff',\n",
       " '0xf0',\n",
       " '0xf',\n",
       " '0x92',\n",
       " '0xf8',\n",
       " '0x0',\n",
       " '0x0',\n",
       " '0x0',\n",
       " '0x0',\n",
       " '0xfc',\n",
       " '0xff',\n",
       " '0xfc',\n",
       " '0xff']"
      ]
     },
     "execution_count": 62,
     "metadata": {},
     "output_type": "execute_result"
    }
   ],
   "source": [
    "[hex(i) for i in v[:100]]"
   ]
  },
  {
   "cell_type": "code",
   "execution_count": 63,
   "id": "a091696f-5304-4b3a-8c4a-ed25930a6655",
   "metadata": {},
   "outputs": [
    {
     "data": {
      "text/plain": [
       "array([ 4080, -1909,    -4,    -4,    -9,    -9,  4080, -1908,     1,\n",
       "           1,    -1,    -1,  4080, -1907,    -1,    -1,   -10,   -10,\n",
       "        4080, -1906], dtype=int16)"
      ]
     },
     "execution_count": 63,
     "metadata": {},
     "output_type": "execute_result"
    }
   ],
   "source": [
    "np.frombuffer(v[4:], dtype=np.int16)[:20]"
   ]
  },
  {
   "cell_type": "code",
   "execution_count": 67,
   "id": "41c971c2-fe6d-4fae-9f42-38ac2a85673e",
   "metadata": {},
   "outputs": [
    {
     "data": {
      "text/plain": [
       "[<matplotlib.lines.Line2D at 0x7fccc00514c0>]"
      ]
     },
     "execution_count": 67,
     "metadata": {},
     "output_type": "execute_result"
    }
   ],
   "source": [
    "plt.figure()\n",
    "plt.plot(np.frombuffer(v[4:], dtype=np.int16)[5::6])"
   ]
  },
  {
   "cell_type": "code",
   "execution_count": 5,
   "id": "b175b118-7aa7-400c-a493-7f895b93abed",
   "metadata": {},
   "outputs": [],
   "source": [
    "fig,ax= plt.subplots(4, 1)\n",
    "for a,c in zip(ax,v):\n",
    "    a.plot(c)"
   ]
  },
  {
   "cell_type": "code",
   "execution_count": 6,
   "id": "57684814-38e5-4de3-b13c-ab26ee780fc5",
   "metadata": {},
   "outputs": [],
   "source": [
    "fig,ax= plt.subplots(4, 1)\n",
    "for a,c in zip(ax,v):\n",
    "    fft = np.fft.fft(c-np.mean(c))/len(c)\n",
    "    freq = np.fft.fftfreq(len(fft), d=1./2e5)[0:len(fft)//2]\n",
    "    fft = np.abs(fft[0:len(fft)//2])\n",
    "    a.plot(freq, fft)\n",
    "    a.semilogx()"
   ]
  },
  {
   "cell_type": "code",
   "execution_count": 33,
   "id": "73bae464-ddd9-4f04-8ca5-b8397cc6fc2b",
   "metadata": {},
   "outputs": [],
   "source": [
    "fig,ax= plt.subplots(4, 1)\n",
    "for i in range(4):\n",
    "    f,p=welch(v[i]*3.2768*2.5/65536.,nperseg=2**22, scaling='density', fs=42e6/2**5/4)\n",
    "    ax[i].plot(f,np.sqrt(p))\n",
    "    ax[i].semilogx()"
   ]
  },
  {
   "cell_type": "code",
   "execution_count": 8,
   "id": "db7866ef-6b61-41ba-a015-c00e4fcc70f6",
   "metadata": {},
   "outputs": [],
   "source": [
    "fig,ax= plt.subplots(4, 1)\n",
    "for i in range(4):\n",
    "    ax[i].specgram(v[i])\n"
   ]
  },
  {
   "cell_type": "code",
   "execution_count": 627,
   "id": "c9e9dae1-2d74-4327-9645-2e1b811f16fe",
   "metadata": {
    "scrolled": true
   },
   "outputs": [],
   "source": [
    "d=serial.Serial(find_device(\"DATA\"))\n",
    "d.flushInput()\n",
    "v=d.read(4096*128)"
   ]
  },
  {
   "cell_type": "code",
   "execution_count": 365,
   "id": "8abd1e42-5160-4fe3-8cbf-f497d48e970b",
   "metadata": {},
   "outputs": [
    {
     "name": "stdout",
     "output_type": "stream",
     "text": [
      "4.9 s ± 2.03 ms per loop (mean ± std. dev. of 7 runs, 1 loop each)\n"
     ]
    }
   ],
   "source": [
    "%timeit d.read(20_000_000)"
   ]
  },
  {
   "cell_type": "code",
   "execution_count": null,
   "id": "34e59740-7453-4dea-8aab-886942d2dd28",
   "metadata": {},
   "outputs": [],
   "source": [
    "np.where(np.array(list(v), dtype=np.uint8)==0xff)"
   ]
  },
  {
   "cell_type": "code",
   "execution_count": 142,
   "id": "d4d54cb0-1c03-4af8-b355-646fca93139d",
   "metadata": {},
   "outputs": [
    {
     "name": "stdout",
     "output_type": "stream",
     "text": [
      "b'\\xed\\x80\\x00\\x00\\xee\\x80\\x00\\x00\\xef\\x80\\x00\\x00\\xff\\x00\\xff\\x00\\x00\\xff\\x00\\xff\\xc9f\\x00\\x00\\xcaf\\x00\\x00\\xcbf'\n"
     ]
    }
   ],
   "source": [
    "print(v[4080:4110])"
   ]
  },
  {
   "cell_type": "code",
   "execution_count": 497,
   "id": "e3370a85-e904-4035-aa59-84477b54d9fc",
   "metadata": {},
   "outputs": [
    {
     "data": {
      "text/plain": [
       "[<matplotlib.lines.Line2D at 0x7fa2f9a865d0>]"
      ]
     },
     "execution_count": 497,
     "metadata": {},
     "output_type": "execute_result"
    }
   ],
   "source": [
    "plt.figure()\n",
    "data = np.diff(np.frombuffer(v, dtype=np.uint32))\n",
    "data[data>1e7]=0\n",
    "plt.plot(data)"
   ]
  },
  {
   "cell_type": "code",
   "execution_count": 560,
   "id": "58518aca-f11a-417d-9a32-9b55e26cda45",
   "metadata": {},
   "outputs": [],
   "source": [
    "values = np.frombuffer(v, dtype=np.int16).copy()"
   ]
  },
  {
   "cell_type": "code",
   "execution_count": 392,
   "id": "6d1f876c-3382-46b1-bf56-938057d3877c",
   "metadata": {},
   "outputs": [
    {
     "data": {
      "text/plain": [
       "[<matplotlib.lines.Line2D at 0x7fa348088260>]"
      ]
     },
     "execution_count": 392,
     "metadata": {},
     "output_type": "execute_result"
    }
   ],
   "source": [
    "plt.figure()\n",
    "plt.plot(np.gradient(values))"
   ]
  },
  {
   "cell_type": "code",
   "execution_count": 628,
   "id": "07de5f93-1511-4f9f-84a2-21a5d55f3485",
   "metadata": {},
   "outputs": [],
   "source": [
    "values = np.frombuffer(v, dtype=np.int16).copy()[6000:]\n",
    "for i in range(10):\n",
    "    if values[i]==-3856:\n",
    "        values = values[i:].copy()\n",
    "plt.figure()\n",
    "for i in range(2,6):\n",
    "    plt.plot(values[i::6])"
   ]
  },
  {
   "cell_type": "code",
   "execution_count": null,
   "id": "9cf26b68-8687-4c34-afaf-711932e5ed6a",
   "metadata": {},
   "outputs": [],
   "source": []
  },
  {
   "cell_type": "code",
   "execution_count": 606,
   "id": "baa07ce2-7676-44f2-baf9-aaeb179587e5",
   "metadata": {},
   "outputs": [
    {
     "data": {
      "text/plain": [
       "(array([4.33121807e-06, 2.37783529e-05, 3.86303005e-05, ...,\n",
       "        5.80575366e-05, 8.68493859e-05, 3.77967837e-05]),\n",
       " array([0.00000000e+00, 4.88281250e+01, 9.76562500e+01, ...,\n",
       "        9.99023437e+04, 9.99511719e+04, 1.00000000e+05]))"
      ]
     },
     "execution_count": 606,
     "metadata": {},
     "output_type": "execute_result"
    }
   ],
   "source": [
    "plt.figure()\n",
    "plt.psd(values[3::6].copy(), Fs=2e5, detrend='mean', scale_by_freq=True, NFFT=4096)\n",
    "#plt.psd(values[3::6].copy(), Fs=2e5, detrend='mean', scale_by_freq=True, NFFT=4096)\n",
    "#plt.psd(values[4::6].copy(), Fs=2e5, detrend='mean', scale_by_freq=True, NFFT=4096)\n",
    "#plt.psd(values[5::6].copy(), Fs=2e5, detrend='mean', scale_by_freq=True, NFFT=4096)"
   ]
  },
  {
   "cell_type": "code",
   "execution_count": null,
   "id": "dca25eb3-958d-45ec-b10a-9f77baba88a5",
   "metadata": {},
   "outputs": [],
   "source": []
  },
  {
   "cell_type": "code",
   "execution_count": 549,
   "id": "11d7e9bb-a2b3-4041-b395-b5e048e8f00e",
   "metadata": {},
   "outputs": [],
   "source": [
    "\n",
    "for i in range(len(v)):\n",
    "    if v[i]==0xFF and v[i+1] == 0 and v[i+2]== 0xFF and v[i+3]==0:\n",
    "        print(i)"
   ]
  }
 ],
 "metadata": {
  "kernelspec": {
   "display_name": "Python 3 (ipykernel)",
   "language": "python",
   "name": "python3"
  },
  "language_info": {
   "codemirror_mode": {
    "name": "ipython",
    "version": 3
   },
   "file_extension": ".py",
   "mimetype": "text/x-python",
   "name": "python",
   "nbconvert_exporter": "python",
   "pygments_lexer": "ipython3",
   "version": "3.12.4"
  }
 },
 "nbformat": 4,
 "nbformat_minor": 5
}
